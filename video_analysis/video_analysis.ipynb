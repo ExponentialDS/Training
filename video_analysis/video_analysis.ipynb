{
 "cells": [
  {
   "cell_type": "code",
   "execution_count": null,
   "id": "e6d2e891",
   "metadata": {},
   "outputs": [],
   "source": [
    "! pip install opencv-python"
   ]
  },
  {
   "cell_type": "code",
   "execution_count": 1,
   "id": "72e555f4",
   "metadata": {},
   "outputs": [],
   "source": [
    "import cv2\n",
    "\n",
    "# Open a video file\n",
    "video_capture = cv2.VideoCapture('blaney.mp4')\n"
   ]
  },
  {
   "cell_type": "code",
   "execution_count": 2,
   "id": "7409454e",
   "metadata": {},
   "outputs": [],
   "source": [
    "import cv2\n",
    "\n",
    "# Open a video file\n",
    "video_capture = cv2.VideoCapture('blaney.mp4')\n",
    "\n",
    "\n",
    "while True:\n",
    "    # Read a frame from the video\n",
    "    ret, frame = video_capture.read()\n",
    "\n",
    "    # Check if the video has ended\n",
    "    if not ret:\n",
    "        break\n",
    "\n",
    "    # Perform video analysis or processing on the frame\n",
    "    # For example, you can display the frame\n",
    "    cv2.imshow('Video Frame', frame)\n",
    "\n",
    "    # Break the loop if a key is pressed (e.g., 'q' for quitting)\n",
    "    if cv2.waitKey(1) & 0xFF == ord('q'):\n",
    "        break\n",
    "\n",
    "# Release the video capture object and close all windows\n",
    "video_capture.release()\n",
    "#cv2.destroyAllWindows()\n"
   ]
  },
  {
   "cell_type": "code",
   "execution_count": 3,
   "id": "bfaad704",
   "metadata": {},
   "outputs": [
    {
     "name": "stdout",
     "output_type": "stream",
     "text": [
      "Video Duration: 12.27 seconds\n"
     ]
    }
   ],
   "source": [
    "import cv2\n",
    "\n",
    "video_capture = cv2.VideoCapture('blaney.mp4')\n",
    "\n",
    "# Get the frame count and frame rate\n",
    "frame_count = int(video_capture.get(cv2.CAP_PROP_FRAME_COUNT))\n",
    "frame_rate = int(video_capture.get(cv2.CAP_PROP_FPS))\n",
    "\n",
    "# Calculate the video dura