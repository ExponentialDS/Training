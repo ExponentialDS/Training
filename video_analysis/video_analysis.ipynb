{
 "cells": [
  {
   "cell_type": "code",
   "execution_count": null,
   "id": "e6d2e891",
   "metadata": {},
   "outputs": [],
   "source": [
    "! pip install opencv-python"
   ]
  },
  {
   "cell_type": "code",
   "execution_count": 1,
   "id": "72e555f4",
   "metadata": {},
   "outputs": [],
   "source": [
    "import cv2\n",
    "\n",
    "# Open a video file\n",
    "video_capture = cv2.VideoCapture('blaney.mp4')\n"
   ]
  },
  {
   "cell_type": "code",
   "execution_count": 2,
   "id": "7409454e",
   "metadata": {},
   "outputs": [],
   "source": [
    "import cv2\n",
    "\n",
    "# Open a video file\n",
    "video_capture = cv2.VideoCapture('blaney.mp4')\n",
    "\n",
    "\n",
    "while True:\n",
    "    # Read a frame from the video\n",
    "    ret, frame = video_capture.read()\n",
    "\n",
    "    # Check if the video has ended\n",
    "    if not ret:\n",
    "        break\n",
    "\n",
    "    # Perform video analysis or processing on the frame\n",
    "    # For example, you can display the frame\n",
    "    cv2.imshow('Video Frame', frame)\n",
    "\n",
    "    # Break the loop if a key is pressed (e.g., 'q' for quitting)\n",
    "    if cv2.waitKey(1) & 0xFF == ord('q'):\n",
    "        break\n",
    "\n",
    "# Release the video capture object and close all windows\n",
    "video_capture.release()\n",
    "#cv2.destroyAllWindows()\n"
   ]
  },
  {
   "cell_type": "code",
   "execution_count": 3,
   "id": "bfaad704",
   "metadata": {},
   "outputs": [
    {
     "name": "stdout",
     "output_type": "stream",
     "text": [
      "Video Duration: 12.27 seconds\n"
     ]
    }
   ],
   "source": [
    "import cv2\n",
    "\n",
    "video_capture = cv2.VideoCapture('blaney.mp4')\n",
    "\n",
    "# Get the frame count and frame rate\n",
    "frame_count = int(video_capture.get(cv2.CAP_PROP_FRAME_COUNT))\n",
    "frame_rate = int(video_capture.get(cv2.CAP_PROP_FPS))\n",
    "\n",
    "# Calculate the video duration in seconds\n",
    "video_duration = frame_count / frame_rate\n",
    "\n",
    "print(f\"Video Duration: {video_duration:.2f} seconds\")\n",
    "\n",
    "video_capture.release()"
   ]
  },
  {
   "cell_type": "markdown",
   "id": "42b37b21",
   "metadata": {},
   "source": [
    "Object Detection or Tracking:\n",
    "You can use OpenCV to detect objects or track them in the video. This involves using algorithms like Haar cascades, YOLO (You Only Look Once), or object tracking algorithms such as MeanShift or CamShift.\n",
    "\n",
    "Optical Flow Analysis:\n",
    "Optical flow analysis can be used to track the motion of objects in the video frame by frame. OpenCV provides functions for optical flow analysis.\n",
    "\n",
    "Face Detection:\n",
    "You can use OpenCV's pre-trained models for face detection to identify and count the number of faces in a video.\n",
    "\n",
    "Background Subtraction:\n",
    "Background subtraction can help identify moving objects in the video. It's often used in video surveillance and motion detection systems.\n",
    "\n",
    "Video Summarization:\n",
    "You can create a summary of the video by selecting key frames or moments based on specific criteria, such as motion or changes in the scene"
   ]
  },
  {
   "cell_type": "code",
   "execution_count": null,
   "id": "0808b13a",
   "metadata": {},
   "outputs": [],
   "source": []
  }
 ],
 "metadata": {
  "kernelspec": {
   "display_name": "Python 3 (ipykernel)",
   "language": "python",
   "name": "python3"
  },
  "language_info": {
   "codemirror_mode": {
    "name": "ipython",
    "version": 3
   },
   "file_extension": ".py",
   "mimetype": "text/x-python",
   "name": "python",
   "nbconvert_exporter": "python",
   "pygments_lexer": "ipython3",
   "version": "3.11.5"
  }
 },
 "nbformat": 4,
 "nbformat_minor": 5
}
