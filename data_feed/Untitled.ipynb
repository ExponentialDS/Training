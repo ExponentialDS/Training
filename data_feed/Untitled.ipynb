{
 "cells": [
  {
   "cell_type": "code",
   "execution_count": 1,
   "id": "ffc85aff",
   "metadata": {},
   "outputs": [],
   "source": [
    "import yfinance as yf"
   ]
  },
  {
   "cell_type": "code",
   "execution_count": 2,
   "id": "64b54967",
   "metadata": {},
   "outputs": [
    {
     "name": "stdout",
     "output_type": "stream",
     "text": [
      "{'address1': 'One Microsoft Way', 'city': 'Redmond', 'state': 'WA', 'zip': '98052-6399', 'country': 'United States', 'phone': '425 882 8080', 'website': 'https://www.microsoft.com', 'industry': 'Software - Infrastructure', 'industryKey': 'software-infrastructure', 'industryDisp': 'Software - Infrastructure', 'sector': 'Technology', 'sectorKey': 'technology', 'sectorDisp': 'Technology', 'longBusinessSummary': 'Microsoft Corporation develops and supports software, services, devices and solutions worldwide. The Productivity and Business Processes segment offers office, exchange, SharePoint, Microsoft Teams, office 365 Security and Compliance, Microsoft viva, and Microsoft 365 copilot; and office consumer services, such as Microsoft 365 consumer subscriptions, Office licensed on-premises, and other office services. This segment also provides LinkedIn; and dynamics business solutions, including Dynamics 365, a set of intelligent, cloud-based applications across ERP, CRM, power apps, and power automate; and on-premises ERP and CRM applications. The Intelligent Cloud segment provides server products and cloud services, such as azure and other cloud services; SQL and windows server, visual studio, system center, and related client access licenses, as well as nuance and GitHub; and enterprise services including enterprise support services, industry solutions, and nuance professional services. The More Personal Computing segment offers Windows, including windows OEM licensing and other non-volume licensing of the Windows operating system; Windows commercial comprising volume licensing of the Windows operating system, windows cloud services, and other Windows commercial offerings; patent licensing; and windows Internet of Things; and devices, such as surface, HoloLens, and PC accessories. Additionally, this segment provides gaming, which includes Xbox hardware and content, and first- and third-party content; Xbox game pass and other subscriptions, cloud gaming, advertising, third-party disc royalties, and other cloud services; and search and news advertising, which includes Bing, Microsoft News and Edge, and third-party affiliates. The company sells its products through OEMs, distributors, and resellers; and directly through digital marketplaces, online, and retail stores. The company was founded in 1975 and is headquartered in Redmond, Washington.', 'fullTimeEmployees': 221000, 'companyOfficers': [{'maxAge': 1, 'name': 'Mr. Satya  Nadella', 'age': 55, 'title': 'Chairman & CEO', 'yearBorn': 1967, 'fiscalYear': 2022, 'totalPay': 12676750, 'exercisedValue': 0, 'unexercisedValue': 0}, {'maxAge': 1, 'name': 'Mr. Bradford L. Smith LCA', 'age': 63, 'title': 'Pres & Vice Chairman', 'yearBorn': 1959, 'fiscalYear': 2022, 'totalPay': 4655274, 'exercisedValue': 0, 'unexercisedValue': 0}, {'maxAge': 1, 'name': 'Ms. Amy E. Hood', 'age': 50, 'title': 'Exec. VP & CFO', 'yearBorn': 1972, 'fiscalYear': 2022, 'totalPay': 4637915, 'exercisedValue': 0, 'unexercisedValue': 0}, {'maxAge': 1, 'name': 'Mr. Judson  Althoff', 'age': 49, 'title': 'Exec. VP & Chief Commercial Officer', 'yearBorn': 1973, 'fiscalYear': 2022, 'totalPay': 4428268, 'exercisedValue': 0, 'unexercisedValue': 0}, {'maxAge': 1, 'name': 'Mr. Christopher David Young', 'age': 50, 'title': 'Exec. VP of Bus. Devel., Strategy & Ventures', 'yearBorn': 1972, 'fiscalYear': 2022, 'totalPay': 4588876, 'exercisedValue': 0, 'unexercisedValue': 0}, {'maxAge': 1, 'name': 'Ms. Alice L. Jolla', 'age': 55, 'title': 'Corp. VP & Chief Accounting Officer', 'yearBorn': 1967, 'exercisedValue': 0, 'unexercisedValue': 0}, {'maxAge': 1, 'name': 'Mr. James Kevin Scott', 'age': 50, 'title': 'Exec. VP of AI & CTO', 'yearBorn': 1972, 'exercisedValue': 0, 'unexercisedValue': 0}, {'maxAge': 1, 'name': 'Brett  Iversen', 'title': 'VP of Investor Relations', 'exercisedValue': 0, 'unexercisedValue': 0}, {'maxAge': 1, 'name': 'Mr. Hossein  Nowbar', 'title': 'Chief Legal Officer', 'exercisedValue': 0, 'unexercisedValue': 0}, {'maxAge': 1, 'name': 'Mr. Frank X. Shaw', 'title': 'Chief Communications Officer', 'exercisedValue': 0, 'unexercisedValue': 0}], 'auditRisk': 6, 'boardRisk': 3, 'compensationRisk': 3, 'shareHolderRightsRisk': 2, 'overallRisk': 2, 'governanceEpochDate': 1696118400, 'compensationAsOfEpochDate': 1672444800, 'maxAge': 86400, 'priceHint': 2, 'previousClose': 319.36, 'open': 316.55, 'dayLow': 316.3, 'dayHigh': 329.19, 'regularMarketPreviousClose': 319.36, 'regularMarketOpen': 316.55, 'regularMarketDayLow': 316.3, 'regularMarketDayHigh': 329.19, 'dividendRate': 3.0, 'dividendYield': 0.0092, 'exDividendDate': 1700006400, 'payoutRatio': 0.2748, 'fiveYearAvgDividendYield': 1.04, 'beta': 0.899066, 'trailingPE': 33.772964, 'forwardPE': 27.317198, 'volume': 25055307, 'regularMarketVolume': 25055307, 'averageVolume': 24809514, 'averageVolume10days': 21230230, 'averageDailyVolume10Day': 21230230, 'bid': 329.06, 'ask': 329.17, 'bidSize': 2200, 'askSize': 1100, 'marketCap': 2431463456768, 'fiftyTwoWeekLow': 213.43, 'fiftyTwoWeekHigh': 366.78, 'priceToSalesTrailing12Months': 11.473767, 'fiftyDayAverage': 325.1824, 'twoHundredDayAverage': 297.90195, 'trailingAnnualDividendRate': 2.72, 'trailingAnnualDividendYield': 0.008517034, 'currency': 'USD', 'enterpriseValue': 2399649398784, 'profitMargins': 0.34146, 'floatShares': 7423522720, 'sharesOutstanding': 7429760000, 'sharesShort': 41145504, 'sharesShortPriorMonth': 31028035, 'sharesShortPreviousMonthDate': 1692057600, 'dateShortInterest': 1694736000, 'sharesPercentSharesOut': 0.0055, 'heldPercentInsiders': 0.00052, 'heldPercentInstitutions': 0.73212, 'shortRatio': 2.04, 'shortPercentOfFloat': 0.0055, 'impliedSharesOutstanding': 7429760000, 'bookValue': 27.748, 'priceToBook': 11.7940035, 'lastFiscalYearEnd': 1688083200, 'nextFiscalYearEnd': 1719705600, 'mostRecentQuarter': 1688083200, 'earningsQuarterlyGrowth': 0.2, 'netIncomeToCommon': 72361000960, 'trailingEps': 9.69, 'forwardEps': 11.98, 'pegRatio': 2.24, 'lastSplitFactor': '2:1', 'lastSplitDate': 1045526400, 'enterpriseToRevenue': 11.324, 'enterpriseToEbitda': 23.521, '52WeekChange': 0.42752457, 'SandP52WeekChange': 0.19270062, 'lastDividendValue': 0.68, 'lastDividendDate': 1692144000, 'exchange': 'NMS', 'quoteType': 'EQUITY', 'symbol': 'MSFT', 'underlyingSymbol': 'MSFT', 'shortName': 'Microsoft Corporation', 'longName': 'Microsoft Corporation', 'firstTradeDateEpochUtc': 511108200, 'timeZoneFullName': 'America/New_York', 'timeZoneShortName': 'EDT', 'uuid': 'b004b3ec-de24-385e-b2c1-923f10d3fb62', 'messageBoardId': 'finmb_21835', 'gmtOffSetMilliseconds': -14400000, 'currentPrice': 327.26, 'targetHighPrice': 417.19, 'targetLowPrice': 270.23, 'targetMeanPrice': 370.87, 'targetMedianPrice': 379.27, 'recommendationMean': 1.7, 'recommendationKey': 'buy', 'numberOfAnalystOpinions': 42, 'totalCash': 111256002560, 'totalCashPerShare': 14.974, 'ebitda': 102022995968, 'totalDebt': 79441002496, 'quickRatio': 1.536, 'currentRatio': 1.769, 'totalRevenue': 211914997760, 'debtToEquity': 38.522, 'revenuePerShare': 28.46, 'returnOnAssets': 0.14245, 'returnOnEquity': 0.38824, 'freeCashflow': 47268999168, 'operatingCashflow': 87581999104, 'earningsGrowth': 0.202, 'revenueGrowth': 0.083, 'grossMargins': 0.6892, 'ebitdaMargins': 0.48143002, 'operatingMargins': 0.41772997, 'financialCurrency': 'USD', 'trailingPegRatio': 2.4167}\n"
     ]
    }
   ],
   "source": [
    "msft = yf.Ticker(\"MSFT\")\n",
    "print(msft.info)"
   ]
  },
  {
   "cell_type": "code",
   "execution_count": 4,
   "id": "b8733349",
   "metadata": {},
   "outputs": [
    {
     "name": "stdout",
     "output_type": "stream",
     "text": [
      "{'address1': 'Bahnhofstrasse 45', 'city': 'Zurich', 'zip': '8001', 'country': 'Switzerland', 'phone': '41 44 234 11 11', 'website': 'https://www.ubs.com', 'industry': 'Banks - Diversified', 'industryKey': 'banks-diversified', 'industryDisp': 'Banks - Diversified', 'sector': 'Financial Services', 'sectorKey': 'financial-services', 'sectorDisp': 'Financial Services', 'longBusinessSummary': 'UBS Group AG provides financial advice and solutions to private, institutional, and corporate clients worldwide. It operates through four divisions: Global Wealth Management, Personal & Corporate Banking, Asset Management, and Investment Bank. The Global Wealth Management division offers investment advice and solutions, and lending solutions. This segment also provides estate and wealth planning, investing, corporate and banking, and investment management, as well as mortgage, securities-based, and structured lending solutions. The Personal & Corporate Banking division provides personal banking products and services, such as deposits, cards, and online and mobile banking, as well as lending, investments, and retirement services; and corporate and institutional solutions, including equity and debt capital markets, syndicated and structured credit, private placements, leasing, traditional financing, trade and export finance, and global custody solutions, as well as transaction banking solutions for payment and cash management. The Asset Management division offers equities, fixed income, hedge funds, real estate and private markets, indexed and alternative beta strategies, asset allocation and currency investment strategies, customized multi-asset solutions, advisory and fiduciary services, and multi-manager hedge fund solutions and advisory services. The Investment Bank division advises clients on strategic business opportunities and helps them raise capital to fund their activities; enables its clients to buy, sell, and finance securities on capital markets and to manage their risks and liquidity; distribute, trade, finance, and clear cash equities and equity-linked products; and offers clients differentiated content on major financial markets and securities. The company was formerly known as UBS AG and changed its name to UBS Group AG in December 2014. UBS Group AG was founded in 1862 and is based in Zurich, Switzerland.', 'fullTimeEmployees': 119100, 'companyOfficers': [{'maxAge': 1, 'name': 'Mr. Sergio P. Ermotti', 'age': 62, 'title': 'Group CEO & Pres of the Group Exec. Board', 'yearBorn': 1960, 'fiscalYear': 2020, 'totalPay': 5414780, 'exercisedValue': 0, 'unexercisedValue': 0}, {'maxAge': 1, 'name': 'Mr. Todd  Tuckner', 'age': 57, 'title': 'CFO & Member of Exec. Board', 'yearBorn': 1965, 'exercisedValue': 0, 'unexercisedValue': 0}, {'maxAge': 1, 'name': 'Mr. Markus  Ronner', 'age': 57, 'title': 'Group Chief Compliance & Governance Officer and Member of Group Exec. Board', 'yearBorn': 1965, 'exercisedValue': 0, 'unexercisedValue': 0}, {'maxAge': 1, 'name': 'Dr. Ulrich  Korner', 'age': 60, 'title': 'Member of the Group Exec. Board & CEO of Credit Suisse AG', 'yearBorn': 1962, 'exercisedValue': 0, 'unexercisedValue': 0}, {'maxAge': 1, 'name': 'Mr. Kian Chew  Koh', 'age': 62, 'title': 'Pres of UBS Asia Pacific & Member of Group Exec. Board', 'yearBorn': 1960, 'exercisedValue': 0, 'unexercisedValue': 0}, {'maxAge': 1, 'name': 'Dr. Sabine  Keller-Busse', 'age': 57, 'title': 'Pres of Personal & Corp. Banking and Member of the Group Exec. Board', 'yearBorn': 1965, 'exercisedValue': 0, 'unexercisedValue': 0}, {'maxAge': 1, 'name': 'Mr. Robert  Karofsky', 'age': 55, 'title': 'Pres of Investment Bank & Member of Group Exec. Board', 'yearBorn': 1967, 'exercisedValue': 0, 'unexercisedValue': 0}, {'maxAge': 1, 'name': 'Dr. Christian  Bluhm', 'age': 53, 'title': 'Group Chief Risk Officer & Member of the Group Exec. Board', 'yearBorn': 1969, 'exercisedValue': 0, 'unexercisedValue': 0}, {'maxAge': 1, 'name': 'Mr. Michael  Dargan', 'age': 45, 'title': 'Chief Operations and Technology Officer & Member of the Exec. Board', 'yearBorn': 1977, 'exercisedValue': 0, 'unexercisedValue': 0}, {'maxAge': 1, 'name': 'Ms. Suni P. Harford', 'age': 60, 'title': 'Pres of Asset Management & Member of Group Exec. Board', 'yearBorn': 1962, 'exercisedValue': 0, 'unexercisedValue': 0}], 'auditRisk': 10, 'boardRisk': 3, 'compensationRisk': 1, 'shareHolderRightsRisk': 1, 'overallRisk': 3, 'governanceEpochDate': 1696118400, 'compensationAsOfEpochDate': 1609372800, 'maxAge': 86400, 'priceHint': 2, 'previousClose': 24.08, 'open': 24.28, 'dayLow': 24.11, 'dayHigh': 24.68, 'regularMarketPreviousClose': 24.08, 'regularMarketOpen': 24.28, 'regularMarketDayLow': 24.11, 'regularMarketDayHigh': 24.68, 'dividendRate': 0.55, 'dividendYield': 0.0224, 'exDividendDate': 1681257600, 'payoutRatio': 0.053200003, 'fiveYearAvgDividendYield': 3.57, 'beta': 0.986631, 'trailingPE': 2.3804452, 'forwardPE': 12.053922, 'volume': 4449932, 'regularMarketVolume': 4449932, 'averageVolume': 3066631, 'averageVolume10days': 3443940, 'averageDailyVolume10Day': 3443940, 'bid': 24.0, 'ask': 24.69, 'bidSize': 1000, 'askSize': 1300, 'marketCap': 79370870784, 'fiftyTwoWeekLow': 13.8, 'fiftyTwoWeekHigh': 26.97, 'priceToSalesTrailing12Months': 2.3589988, 'fiftyDayAverage': 24.3326, 'twoHundredDayAverage': 21.4026, 'trailingAnnualDividendRate': 0.55, 'trailingAnnualDividendYield': 0.022840532, 'currency': 'USD', 'enterpriseValue': 203247927296, 'profitMargins': 0.98942, 'floatShares': 3217250185, 'sharesOutstanding': 3227770112, 'sharesShort': 13414366, 'sharesShortPriorMonth': 17909305, 'sharesShortPreviousMonthDate': 1692057600, 'dateShortInterest': 1694736000, 'sharesPercentSharesOut': 0.0042, 'heldPercentInsiders': 0.00077, 'heldPercentInstitutions': 0.60195, 'shortRatio': 3.53, 'shortPercentOfFloat': 0.0047999998, 'impliedSharesOutstanding': 3227770112, 'bookValue': 26.953, 'priceToBook': 0.9123289, 'lastFiscalYearEnd': 1672444800, 'nextFiscalYearEnd': 1703980800, 'mostRecentQuarter': 1688083200, 'earningsQuarterlyGrowth': 12.698, 'netIncomeToCommon': 33290000384, 'trailingEps': 10.33, 'forwardEps': 2.04, 'pegRatio': 1.66, 'lastSplitFactor': '2:1', 'lastSplitDate': 1152489600, 'enterpriseToRevenue': 6.041, '52WeekChange': 0.7064538, 'SandP52WeekChange': 0.19270062, 'lastDividendValue': 0.55, 'lastDividendDate': 1681257600, 'exchange': 'NYQ', 'quoteType': 'EQUITY', 'symbol': 'UBS', 'underlyingSymbol': 'UBS', 'shortName': 'UBS Group AG Registered', 'longName': 'UBS Group AG', 'firstTradeDateEpochUtc': 958483800, 'timeZoneFullName': 'America/New_York', 'timeZoneShortName': 'EDT', 'uuid': '6757e1f1-6cdc-3e62-ab3c-63f3017ca366', 'messageBoardId': 'finmb_416620', 'gmtOffSetMilliseconds': -14400000, 'currentPrice': 24.59, 'targetHighPrice': 34.15, 'targetLowPrice': 33.04, 'targetMeanPrice': 33.6, 'targetMedianPrice': 33.6, 'recommendationMean': 1.5, 'recommendationKey': 'strong_buy', 'numberOfAnalystOpinions': 2, 'totalCash': 566381969408, 'totalCashPerShare': 175.471, 'totalDebt': 689623007232, 'totalRevenue': 33646000128, 'revenuePerShare': 10.755, 'returnOnAssets': 0.02386, 'returnOnEquity': 0.46008998, 'grossProfits': 34415000000, 'operatingCashflow': 14161999872, 'earningsGrowth': 13.673, 'revenueGrowth': -0.012, 'grossMargins': 0.0, 'ebitdaMargins': 0.0, 'operatingMargins': 0.19643, 'financialCurrency': 'USD', 'trailingPegRatio': 0.2383}\n"
     ]
    }
   ],
   "source": [
    "ubs = yf.Ticker(\"UBS\")\n",
    "print(msft.info)"
   ]
  },
  {
   "cell_type": "markdown",
   "id": "e8969498",
   "metadata": {},
   "source": [
    "It takes the following parameters as input:\n",
    "\n",
    "period: data period to download (either use period parameter or use start and end) Valid periods are:\n",
    "“1d”, “5d”, “1mo”, “3mo”, “6mo”, “1y”, “2y”, “5y”, “10y”, “ytd”, “max”\n",
    "interval: data interval (1m data is only for available for last 7 days, and data interval <1d for the last 60 days) Valid intervals are:\n",
    "“1m”, “2m”, “5m”, “15m”, “30m”, “60m”, “90m”, “1h”, “1d”, “5d”, “1wk”, “1mo”, “3mo”\n",
    "start: If not using period – in the format (yyyy-mm-dd) or datetime.\n",
    "end: If not using period – in the format (yyyy-mm-dd) or datetime.\n",
    "prepost: Include Pre and Post regular market data in results? (Default is False)- no need usually to change this from False\n",
    "auto_adjust: Adjust all OHLC (Open/High/Low/Close prices) automatically? (Default is True)- just leave this always as true and don’t worry about it\n",
    "actions: Download stock dividends and stock splits events? (Default is True)"
   ]
  },
  {
   "cell_type": "code",
   "execution_count": 6,
   "id": "f35b016f",
   "metadata": {},
   "outputs": [
    {
     "data": {
      "text/plain": [
       "yfinance.Ticker object <AAPL>"
      ]
     },
     "execution_count": 6,
     "metadata": {},
     "output_type": "execute_result"
    }
   ],
   "source": [
    "aapl= yf.Ticker(\"aapl\")\n",
    "aapl"
   ]
  },
  {
   "cell_type": "code",
   "execution_count": 9,
   "id": "c79a63a6",
   "metadata": {},
   "outputs": [
    {
     "data": {
      "text/html": [
       "<div>\n",
       "<style scoped>\n",
       "    .dataframe tbody tr th:only-of-type {\n",
       "        vertical-align: middle;\n",
       "    }\n",
       "\n",
       "    .dataframe tbody tr th {\n",
       "        vertical-align: top;\n",
       "    }\n",
       "\n",
       "    .dataframe thead th {\n",
       "        text-align: right;\n",
       "    }\n",
       "</style>\n",
       "<table border=\"1\" class=\"dataframe\">\n",
       "  <thead>\n",
       "    <tr style=\"text-align: right;\">\n",
       "      <th></th>\n",
       "      <th>Open</th>\n",
       "      <th>High</th>\n",
       "      <th>Low</th>\n",
       "      <th>Close</th>\n",
       "      <th>Volume</th>\n",
       "      <th>Dividends</th>\n",
       "      <th>Stock Splits</th>\n",
       "    </tr>\n",
       "    <tr>\n",
       "      <th>Date</th>\n",
       "      <th></th>\n",
       "      <th></th>\n",
       "      <th></th>\n",
       "      <th></th>\n",
       "      <th></th>\n",
       "      <th></th>\n",
       "      <th></th>\n",
       "    </tr>\n",
       "  </thead>\n",
       "  <tbody>\n",
       "    <tr>\n",
       "      <th>2023-10-02 00:00:00-04:00</th>\n",
       "      <td>171.220001</td>\n",
       "      <td>174.300003</td>\n",
       "      <td>170.929993</td>\n",
       "      <td>173.750000</td>\n",
       "      <td>52164500</td>\n",
       "      <td>0.0</td>\n",
       "      <td>0.0</td>\n",
       "    </tr>\n",
       "    <tr>\n",
       "      <th>2023-10-03 00:00:00-04:00</th>\n",
       "      <td>172.259995</td>\n",
       "      <td>173.630005</td>\n",
       "      <td>170.820007</td>\n",
       "      <td>172.399994</td>\n",
       "      <td>49594600</td>\n",
       "      <td>0.0</td>\n",
       "      <td>0.0</td>\n",
       "    </tr>\n",
       "    <tr>\n",
       "      <th>2023-10-04 00:00:00-04:00</th>\n",
       "      <td>171.089996</td>\n",
       "      <td>174.210007</td>\n",
       "      <td>170.970001</td>\n",
       "      <td>173.660004</td>\n",
       "      <td>53020300</td>\n",
       "      <td>0.0</td>\n",
       "      <td>0.0</td>\n",
       "    </tr>\n",
       "    <tr>\n",
       "      <th>2023-10-05 00:00:00-04:00</th>\n",
       "      <td>173.789993</td>\n",
       "      <td>175.449997</td>\n",
       "      <td>172.679993</td>\n",
       "      <td>174.910004</td>\n",
       "      <td>48527900</td>\n",
       "      <td>0.0</td>\n",
       "      <td>0.0</td>\n",
       "    </tr>\n",
       "    <tr>\n",
       "      <th>2023-10-06 00:00:00-04:00</th>\n",
       "      <td>173.800003</td>\n",
       "      <td>177.990005</td>\n",
       "      <td>173.179993</td>\n",
       "      <td>177.490005</td>\n",
       "      <td>57224100</td>\n",
       "      <td>0.0</td>\n",
       "      <td>0.0</td>\n",
       "    </tr>\n",
       "  </tbody>\n",
       "</table>\n",
       "</div>"
      ],
      "text/plain": [
       "                                 Open        High         Low       Close  \\\n",
       "Date                                                                        \n",
       "2023-10-02 00:00:00-04:00  171.220001  174.300003  170.929993  173.750000   \n",
       "2023-10-03 00:00:00-04:00  172.259995  173.630005  170.820007  172.399994   \n",
       "2023-10-04 00:00:00-04:00  171.089996  174.210007  170.970001  173.660004   \n",
       "2023-10-05 00:00:00-04:00  173.789993  175.449997  172.679993  174.910004   \n",
       "2023-10-06 00:00:00-04:00  173.800003  177.990005  173.179993  177.490005   \n",
       "\n",
       "                             Volume  Dividends  Stock Splits  \n",
       "Date                                                          \n",
       "2023-10-02 00:00:00-04:00  52164500        0.0           0.0  \n",
       "2023-10-03 00:00:00-04:00  49594600        0.0           0.0  \n",
       "2023-10-04 00:00:00-04:00  53020300        0.0           0.0  \n",
       "2023-10-05 00:00:00-04:00  48527900        0.0           0.0  \n",
       "2023-10-06 00:00:00-04:00  57224100        0.0           0.0  "
      ]
     },
     "execution_count": 9,
     "metadata": {},
     "output_type": "execute_result"
    }
   ],
   "source": [
    "aapl_historical = aapl.history(start=\"2023-10-02\", end=\"2023-10-07\", interval=\"1d\")\n",
    "aapl_historical"
   ]
  },
  {
   "cell_type": "code",
   "execution_count": null,
   "id": "dc5d56d0",
   "metadata": {},
   "outputs": [],
   "source": [
    "aapl_historical"
   ]
  },
  {
   "cell_type": "code",
   "execution_count": null,
   "id": "0a08c82c",
   "metadata": {},
   "outputs": [],
   "source": [
    "from datetime import datetime, timedelta\n",
    "\n",
    "# Get the current date and time\n",
    "today = datetime.now()\n",
    "# Calculate yesterday's date\n",
    "yesterday = today - timedelta(days=1)\n",
    "\n",
    "# Print yesterday's date\n",
    "print(\"Yesterday's date:\", yesterday.strftime('%Y-%m-%d'))\n"
   ]
  },
  {
   "cell_type": "code",
   "execution_count": 12,
   "id": "186708aa",
   "metadata": {},
   "outputs": [
    {
     "ename": "TypeError",
     "evalue": "'Ticker' object is not callable",
     "output_type": "error",
     "traceback": [
      "\u001b[1;31m---------------------------------------------------------------------------\u001b[0m",
      "\u001b[1;31mTypeError\u001b[0m                                 Traceback (most recent call last)",
      "Cell \u001b[1;32mIn[12], line 17\u001b[0m\n\u001b[0;32m     14\u001b[0m     stock_1_day \u001b[38;5;241m=\u001b[39m stock(start\u001b[38;5;241m=\u001b[39mstart_date, end\u001b[38;5;241m=\u001b[39myesterday, interval\u001b[38;5;241m=\u001b[39mrng)\n\u001b[0;32m     15\u001b[0m     stock_1_day\u001b[38;5;241m.\u001b[39mappend(stocks)\n\u001b[1;32m---> 17\u001b[0m capture_daily_stock(\u001b[38;5;124m'\u001b[39m\u001b[38;5;124maapl\u001b[39m\u001b[38;5;124m'\u001b[39m, \u001b[38;5;241m1\u001b[39m)\n",
      "Cell \u001b[1;32mIn[12], line 14\u001b[0m, in \u001b[0;36mcapture_daily_stock\u001b[1;34m(ticker, rng)\u001b[0m\n\u001b[0;32m     12\u001b[0m start_date \u001b[38;5;241m=\u001b[39m yesterday\n\u001b[0;32m     13\u001b[0m end_date \u001b[38;5;241m=\u001b[39m yesterday\n\u001b[1;32m---> 14\u001b[0m stock_1_day \u001b[38;5;241m=\u001b[39m stock(start\u001b[38;5;241m=\u001b[39mstart_date, end\u001b[38;5;241m=\u001b[39myesterday, interval\u001b[38;5;241m=\u001b[39mrng)\n\u001b[0;32m     15\u001b[0m stock_1_day\u001b[38;5;241m.\u001b[39mappend(stocks)\n",
      "\u001b[1;31mTypeError\u001b[0m: 'Ticker' object is not callable"
     ]
    }
   ],
   "source": [
    "from datetime import datetime, timedelta\n",
    "\n",
    "stocks = []\n",
    "\n",
    "def capture_daily_stock(ticker, rng):\n",
    "    stock = yf.Ticker('ticker')\n",
    "    \n",
    "    # Get the current date and time\n",
    "    today = datetime.now()\n",
    "    # Calculate yesterday's date\n",
    "    yesterday = today - timedelta(days=1)\n",
    "    start_date = yesterday\n",
    "    end_date = yesterday\n",
    "    stock_1_day = stock(start=start_date, end=yesterday, interval=rng)\n",
    "    stock_1_day.append(stocks)\n",
    "\n",
    "capture_daily_stock('aapl', 1)"
   ]
  },
  {
   "cell_type": "code",
   "execution_count": 16,
   "id": "2d320b55",
   "metadata": {},
   "outputs": [
    {
     "name": "stdout",
     "output_type": "stream",
     "text": [
      "                                 Open        High         Low       Close  \\\n",
      "Date                                                                        \n",
      "2023-10-06 00:00:00-04:00  173.800003  177.990005  173.179993  177.490005   \n",
      "\n",
      "                             Volume  Dividends  Stock Splits  \n",
      "Date                                                          \n",
      "2023-10-06 00:00:00-04:00  57190238        0.0           0.0  \n",
      "                                 Open        High         Low       Close  \\\n",
      "Date                                                                        \n",
      "2023-10-06 00:00:00-04:00  173.800003  177.990005  173.179993  177.490005   \n",
      "\n",
      "                             Volume  Dividends  Stock Splits  \n",
      "Date                                                          \n",
      "2023-10-06 00:00:00-04:00  57190238        0.0           0.0  \n",
      "                                 Open        High         Low       Close  \\\n",
      "Date                                                                        \n",
      "2023-10-06 00:00:00-04:00  173.800003  177.990005  173.179993  177.490005   \n",
      "\n",
      "                             Volume  Dividends  Stock Splits  \n",
      "Date                                                          \n",
      "2023-10-06 00:00:00-04:00  57190238        0.0           0.0  \n"
     ]
    }
   ],
   "source": [
    "import yfinance as yf\n",
    "from datetime import datetime, timedelta\n",
    "import pandas as pd\n",
    "\n",
    "def capture_daily_stock(ticker, rng):\n",
    "    # Get the current date and time\n",
    "    today = datetime.now()\n",
    "\n",
    "    # Calculate yesterday's date\n",
    "    yesterday = today - timedelta(days=1)\n",
    "\n",
    "    # Create a yfinance Ticker object for the specified ticker\n",
    "    stock = yf.Ticker(ticker)\n",
    "\n",
    "    # Fetch historical stock data for yesterday\n",
    "    stock_data = stock.history(start=yesterday, end=yesterday)\n",
    "\n",
    "    # Append the stock data to the 'stocks' list\n",
    "    stocks.append(stock_data)\n",
    "    \n",
    "    stock_df = pd.DataFrame(stock_data)\n",
    "    \n",
    "    return stock_df\n",
    "\n",
    "# Example usage: Capture AAPL stock data for yesterday with a 1-day interval\n",
    "capture_daily_stock('AAPL', '1d')\n",
    "\n",
    "# Print the captured stock data\n",
    "for stock_data in stocks:\n",
    "    print(stock_data)\n"
   ]
  },
  {
   "cell_type": "code",
   "execution_count": 18,
   "id": "a65edc3e",
   "metadata": {},
   "outputs": [
    {
     "name": "stdout",
     "output_type": "stream",
     "text": [
      "                                 Open        High         Low       Close  \\\n",
      "Date                                                                        \n",
      "2023-10-06 00:00:00-04:00  173.800003  177.990005  173.179993  177.490005   \n",
      "\n",
      "                             Volume  Dividends  Stock Splits  \n",
      "Date                                                          \n",
      "2023-10-06 00:00:00-04:00  57190238        0.0           0.0  \n"
     ]
    }
   ],
   "source": [
    "import yfinance as yf\n",
    "import pandas as pd\n",
    "from datetime import datetime, timedelta\n",
    "\n",
    "def capture_daily_stock(ticker):\n",
    "    # Get the current date and time\n",
    "    today = datetime.now()\n",
    "\n",
    "    # Calculate yesterday's date\n",
    "    yesterday = today - timedelta(days=1)\n",
    "\n",
    "    # Create a yfinance Ticker object for the specified ticker\n",
    "    stock = yf.Ticker(ticker)\n",
    "\n",
    "    # Fetch historical stock data for yesterday\n",
    "    stock_data = stock.history(start=yesterday, end=yesterday)\n",
    "\n",
    "    # Convert the stock data to a Pandas DataFrame\n",
    "    stock_df = pd.DataFrame(stock_data)\n",
    "\n",
    "    return stock_df\n",
    "\n",
    "# Example usage: Capture AAPL stock data for yesterday\n",
    "aapl_data = capture_daily_stock('AAPL')\n",
    "\n",
    "# Print the captured stock data as a DataFrame\n",
    "print(aapl_data)\n"
   ]
  },
  {
   "cell_type": "code",
   "execution_count": 19,
   "id": "eb529aba",
   "metadata": {},
   "outputs": [
    {
     "data": {
      "text/plain": [
       "pandas.core.frame.DataFrame"
      ]
     },
     "execution_count": 19,
     "metadata": {},
     "output_type": "execute_result"
    }
   ],
   "source": [
    "type(aapl_data)"
   ]
  },
  {
   "cell_type": "code",
   "execution_count": 20,
   "id": "f0845b02",
   "metadata": {},
   "outputs": [
    {
     "name": "stdout",
     "output_type": "stream",
     "text": [
      "                                 Open        High         Low       Close  \\\n",
      "Date                                                                        \n",
      "2023-10-06 00:00:00-04:00  173.800003  177.990005  173.179993  177.490005   \n",
      "2023-10-06 00:00:00-04:00  316.549988  329.190002  316.299988  327.260010   \n",
      "2023-10-06 00:00:00-04:00   24.280001   24.680000   24.110001   24.590000   \n",
      "\n",
      "                             Volume  Dividends  Stock Splits Ticker  \n",
      "Date                                                                 \n",
      "2023-10-06 00:00:00-04:00  57190238        0.0           0.0   AAPL  \n",
      "2023-10-06 00:00:00-04:00  25055307        0.0           0.0   MSFT  \n",
      "2023-10-06 00:00:00-04:00   4449932        0.0           0.0    UBS  \n"
     ]
    }
   ],
   "source": [
    "import yfinance as yf\n",
    "import pandas as pd\n",
    "from datetime import datetime, timedelta\n",
    "\n",
    "def capture_daily_stocks(tickers):\n",
    "    # Get the current date and time\n",
    "    today = datetime.now()\n",
    "\n",
    "    # Calculate yesterday's date\n",
    "    yesterday = today - timedelta(days=1)\n",
    "\n",
    "    # Create an empty DataFrame to store the data for all tickers\n",
    "    all_data = pd.DataFrame()\n",
    "\n",
    "    # Loop through the list of tickers and fetch data for each\n",
    "    for ticker in tickers:\n",
    "        # Create a yfinance Ticker object for the current ticker\n",
    "        stock = yf.Ticker(ticker)\n",
    "\n",
    "        # Fetch historical stock data for yesterday\n",
    "        stock_data = stock.history(start=yesterday, end=yesterday)\n",
    "\n",
    "        # Add a 'Ticker' column to identify the data for each ticker\n",
    "        stock_data['Ticker'] = ticker\n",
    "\n",
    "        # Concatenate the data for the current ticker with the overall data\n",
    "        all_data = pd.concat([all_data, stock_data])\n",
    "\n",
    "    return all_data\n",
    "\n",
    "# Example usage: Capture data for multiple tickers (AAPL and MSFT)\n",
    "tickers_to_capture = ['AAPL', 'MSFT', 'UBS']\n",
    "multi_stock_data = capture_daily_stocks(tickers_to_capture)\n",
    "\n",
    "# Print the captured data as a DataFrame\n",
    "print(multi_stock_data)\n"
   ]
  },
  {
   "cell_type": "code",
   "execution_count": 21,
   "id": "c72c20bf",
   "metadata": {},
   "outputs": [
    {
     "name": "stdout",
     "output_type": "stream",
     "text": [
      "<class 'pandas.core.frame.DataFrame'>\n",
      "DatetimeIndex: 3 entries, 2023-10-06 00:00:00-04:00 to 2023-10-06 00:00:00-04:00\n",
      "Data columns (total 8 columns):\n",
      " #   Column        Non-Null Count  Dtype  \n",
      "---  ------        --------------  -----  \n",
      " 0   Open          3 non-null      float64\n",
      " 1   High          3 non-null      float64\n",
      " 2   Low           3 non-null      float64\n",
      " 3   Close         3 non-null      float64\n",
      " 4   Volume        3 non-null      int64  \n",
      " 5   Dividends     3 non-null      float64\n",
      " 6   Stock Splits  3 non-null      float64\n",
      " 7   Ticker        3 non-null      object \n",
      "dtypes: float64(6), int64(1), object(1)\n",
      "memory usage: 216.0+ bytes\n"
     ]
    }
   ],
   "source": [
    "multi_stock_data.info()"
   ]
  },
  {
   "cell_type": "code",
   "execution_count": 23,
   "id": "2c77051f",
   "metadata": {},
   "outputs": [
    {
     "name": "stdout",
     "output_type": "stream",
     "text": [
      "\r",
      "[*********************100%%**********************]  1 of 1 completed"
     ]
    },
    {
     "name": "stderr",
     "output_type": "stream",
     "text": [
      "\n",
      "1 Failed download:\n",
      "['SP500']: Exception('%ticker%: No data found, symbol may be delisted')\n"
     ]
    },
    {
     "name": "stdout",
     "output_type": "stream",
     "text": [
      "\n",
      "[]\n"
     ]
    }
   ],
   "source": [
    "import yfinance as yf\n",
    "\n",
    "# Define the index (e.g., S&P 500 or NASDAQ) to get all its component tickers\n",
    "index_tickers = yf.download('SP500', period=\"1d\")\n",
    "\n",
    "# Extract the tickers from the DataFrame\n",
    "all_ticker_symbols = index_tickers.index.values.tolist()\n",
    "\n",
    "# Print the list of ticker symbols\n",
    "print(all_ticker_symbols)\n",
    "\n"
   ]
  },
  {
   "cell_type": "markdown",
   "id": "08106cda",
   "metadata": {},
   "source": [
    "Yahoo Finance has a total of 245,784 ticker symbols1. These are broken down into:\n",
    "\n",
    "Stocks: 106,332 tickers\n",
    "ETFs: 21,196 tickers\n",
    "Futures: 9,294 tickers\n",
    "Indices: 80,017 tickers\n",
    "Mutual funds: 24,926 tickers\n",
    "Currency pairs: 4,019 tickers1"
   ]
  },
  {
   "cell_type": "code",
   "execution_count": 27,
   "id": "e5a87cfa",
   "metadata": {},
   "outputs": [
    {
     "ename": "IndentationError",
     "evalue": "expected an indented block after 'try' statement on line 6 (407860122.py, line 8)",
     "output_type": "error",
     "traceback": [
      "\u001b[1;36m  Cell \u001b[1;32mIn[27], line 8\u001b[1;36m\u001b[0m\n\u001b[1;33m    soup = BeautifulSoup(requests.get(url).content, 'html.parser')\u001b[0m\n\u001b[1;37m    ^\u001b[0m\n\u001b[1;31mIndentationError\u001b[0m\u001b[1;31m:\u001b[0m expected an indented block after 'try' statement on line 6\n"
     ]
    }
   ],
   "source": [
    "import requests\n",
    "from bs4 import BeautifulSoup\n",
    "\n",
    "url = 'https://www.marketscreener.com/MICROSOFT-CORPORATION-4835/financials/'\n",
    "\n",
    "try:\n",
    "    \n",
    "soup = BeautifulSoup(requests.get(url).content, 'html.parser')\n",
    "\n",
    "all_data = {}\n",
    "# for every table found on page...\n",
    "for table in soup.select('table.BordCollapseYear2'):\n",
    "    table_name = table.find_previous('b').text\n",
    "    all_data[table_name] = []\n",
    "    # ..scrape every row\n",
    "    for tr in table.select('tr'):\n",
    "        row = [td.get_text(strip=True, separator=' ') for td in tr.select('td')]\n",
    "        if len(row) == 7:\n",
    "            all_data[table_name].append(row)\n",
    "\n",
    "#pretty print all data:\n",
    "for k, v in all_data.items():\n",
    "    print('Table name: {}'.format(k))\n",
    "    print('-' * 160)\n",
    "    for row in v:\n",
    "        print(('{:<25}'*7).format(*row))\n",
    "    print()\n",
    "\n",
    "except Exception as e:\n",
    "    print(f\"An error occurred: {str(e)}\")"
   ]
  },
  {
   "cell_type": "code",
   "execution_count": 28,
   "id": "6dfc9964",
   "metadata": {},
   "outputs": [],
   "source": [
    "try:\n",
    "    url = 'https://www.marketscreener.com/MICROSOFT-CORPORATION-4835/financials/'\n",
    "\n",
    "    soup = BeautifulSoup(requests.get(url).content, 'html.parser')\n",
    "\n",
    "    all_data = {}\n",
    "    # for every table found on page...\n",
    "    for table in soup.select('table.BordCollapseYear2'):\n",
    "        table_name = table.find_previous('b').text\n",
    "        all_data[table_name] = []\n",
    "        # ..scrape every row\n",
    "        for tr in table.select('tr'):\n",
    "            row = [td.get_text(strip=True, separator=' ') for td in tr.select('td')]\n",
    "            if len(row) == 7:\n",
    "                all_data[table_name].append(row)\n",
    "\n",
    "    # pretty print all data:\n",
    "    for k, v in all_data.items():\n",
    "        print('Table name: {}'.format(k))\n",
    "        print('-' * 160)\n",
    "        for row in v:\n",
    "            print(('{:<25}'*7).format(*row))\n",
    "        print()\n",
    "\n",
    "except Exception as e:\n",
    "    print(f\"An error occurred: {str(e)}\")\n"
   ]
  },
  {
   "cell_type": "code",
   "execution_count": null,
   "id": "2ade10ef",
   "metadata": {},
   "outputs": [],
   "source": []
  }
 ],
 "metadata": {
  "kernelspec": {
   "display_name": "Python 3 (ipykernel)",
   "language": "python",
   "name": "python3"
  },
  "language_info": {
   "codemirror_mode": {
    "name": "ipython",
    "version": 3
   },
   "file_extension": ".py",
   "mimetype": "text/x-python",
   "name": "python",
   "nbconvert_exporter": "python",
   "pygments_lexer": "ipython3",
   "version": "3.11.5"
  }
 },
 "nbformat": 4,
 "nbformat_minor": 5
}
